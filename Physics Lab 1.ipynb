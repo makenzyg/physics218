{
 "cells": [
  {
   "cell_type": "code",
   "execution_count": 13,
   "metadata": {},
   "outputs": [],
   "source": [
    "import numpy as np\n",
    "def Alpha(deltaL,L,Tf,Ti):\n",
    "    alpha = deltaL/(L*(Tf-Ti))\n",
    "    return alpha"
   ]
  },
  {
   "cell_type": "code",
   "execution_count": 15,
   "metadata": {},
   "outputs": [
    {
     "name": "stdout",
     "output_type": "stream",
     "text": [
      "Alpha= 1.7228309558266145e-05 per Kelvin\n"
     ]
    }
   ],
   "source": [
    "deltaL = .00125\n",
    "length = 1.05\n",
    "temp_final = 92.5\n",
    "temp_initial = 23.4\n",
    "\n",
    "alpha = Alpha(deltaL,length,temp_final,temp_initial)\n",
    "print (\"Alpha=\",alpha,\"per Kelvin\")"
   ]
  },
  {
   "cell_type": "code",
   "execution_count": 27,
   "metadata": {},
   "outputs": [],
   "source": [
    "import numpy as np\n",
    "def rule3(dTf,dTi):\n",
    "    ddeltat = np.sqrt(dTf**2+dTi**2)\n",
    "    return ddeltat"
   ]
  },
  {
   "cell_type": "code",
   "execution_count": 28,
   "metadata": {},
   "outputs": [
    {
     "name": "stdout",
     "output_type": "stream",
     "text": [
      "Deltat= 0.31622776601683794 Degree Celcius\n"
     ]
    }
   ],
   "source": [
    "dTf = .1\n",
    "dTi = .3\n",
    "\n",
    "ddeltat = rule3(dTf,dTi)\n",
    "print (\"Deltat=\",ddeltat,\"Degree Celcius\")"
   ]
  },
  {
   "cell_type": "code",
   "execution_count": 32,
   "metadata": {},
   "outputs": [],
   "source": [
    "import numpy as np\n",
    "def rule4(alpha,dL,L,ddeltat,deltat,ddeltaL,deltaL):\n",
    "    dalpha = alpha*np.sqrt((dL/L)**2+(ddeltat/deltat)**2+(ddeltaL/deltaL)**2)\n",
    "    return dalpha"
   ]
  },
  {
   "cell_type": "code",
   "execution_count": 33,
   "metadata": {
    "scrolled": true
   },
   "outputs": [
    {
     "name": "stdout",
     "output_type": "stream",
     "text": [
      "Dalpha= 1.596296282604527e-07 per Kelvin\n"
     ]
    }
   ],
   "source": [
    "alpha = 1.7228309558266145e-05\n",
    "dL = .001\n",
    "L = 1.05\n",
    "ddeltat = 0.31622776601683794\n",
    "deltat = 69.1\n",
    "ddeltaL = .00001\n",
    "deltaL = .00125\n",
    "\n",
    "dalpha = rule4(alpha,dL,L,ddeltat,deltat,ddeltaL,deltaL)\n",
    "print (\"Dalpha=\",dalpha,\"per Kelvin\")"
   ]
  },
  {
   "cell_type": "markdown",
   "metadata": {},
   "source": [
    "$\\alpha$ = 1.7228309558266145e-05 + or - 1.596296282604527e-07 per Kelvin"
   ]
  },
  {
   "cell_type": "code",
   "execution_count": null,
   "metadata": {},
   "outputs": [],
   "source": []
  }
 ],
 "metadata": {
  "kernelspec": {
   "display_name": "Python 3",
   "language": "python",
   "name": "python3"
  },
  "language_info": {
   "codemirror_mode": {
    "name": "ipython",
    "version": 3
   },
   "file_extension": ".py",
   "mimetype": "text/x-python",
   "name": "python",
   "nbconvert_exporter": "python",
   "pygments_lexer": "ipython3",
   "version": "3.7.3"
  }
 },
 "nbformat": 4,
 "nbformat_minor": 2
}
